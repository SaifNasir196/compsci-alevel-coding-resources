{
 "cells": [
  {
   "cell_type": "markdown",
   "metadata": {},
   "source": [
    "### Linear Search\n"
   ]
  },
  {
   "cell_type": "code",
   "execution_count": 10,
   "metadata": {},
   "outputs": [],
   "source": [
    "lst = [4,2,6,8,3,5,7,1]\n",
    "item = 8\n",
    "def lin_search(item):\n",
    "    ub = len(lst) -1\n",
    "    lb = 0\n",
    "    count = -1\n",
    "    found = False\n",
    "    while not found and count<=ub:\n",
    "        count +=1\n",
    "        if item == lst[count]:\n",
    "            found = True\n",
    "    if found:\n",
    "        print('item found at index: ', count)    \n"
   ]
  },
  {
   "cell_type": "markdown",
   "metadata": {},
   "source": [
    "### Binary Search"
   ]
  },
  {
   "cell_type": "code",
   "execution_count": 9,
   "metadata": {},
   "outputs": [],
   "source": [
    "lst = [1,2,3,4,5,6,7,8] # condition: list must be sorted\n",
    "item = 5\n",
    "\n",
    "def bin_search(item):\n",
    "    ub = len(lst)-1\n",
    "    lb = 0\n",
    "    found = False\n",
    "    while not found and lb<= ub:\n",
    "        mid = (ub + lb)//2\n",
    "        if item < lst[mid]:\n",
    "            ub = mid - 1\n",
    "        elif item > lst[mid]:\n",
    "            lb = mid + 1\n",
    "        else:\n",
    "            found = True\n",
    "    \n",
    "    if found:\n",
    "        print('item found at index: ', mid)    \n",
    "    else:\n",
    "        print('item not found')   \n"
   ]
  },
  {
   "cell_type": "markdown",
   "metadata": {},
   "source": [
    "### Insertion Sort"
   ]
  },
  {
   "cell_type": "code",
   "execution_count": 14,
   "metadata": {},
   "outputs": [],
   "source": [
    "lst = [4,2,6,8,3,5,7,1]\n",
    "\n",
    "def ins_sort(): # for loop -> while loop\n",
    "    ub = len(lst)\n",
    "    lb = 0\n",
    "    \n",
    "    for count in range(lb+1, ub):\n",
    "        val = lst[count]\n",
    "        temp = count\n",
    "        while lst[temp-1]>val and temp >0:\n",
    "            # swap if prev greater than current val\n",
    "            lst[temp] = lst[temp-1]\n",
    "            temp -=1\n",
    "            # print(lst) # to view how the list is sorted\n",
    "        \n",
    "        lst[temp] = val      \n",
    "    print(lst)"
   ]
  },
  {
   "cell_type": "markdown",
   "metadata": {},
   "source": [
    "### Bubble Sort"
   ]
  },
  {
   "cell_type": "code",
   "execution_count": 45,
   "metadata": {},
   "outputs": [],
   "source": [
    "lst = [4,2,6,8,3,5,7,1]\n",
    "\n",
    "def bub_sort(): # while loop --> for loop\n",
    "    ub = len(lst)\n",
    "    swap = True\n",
    "    while swap and ub !=0:\n",
    "        swap = False\n",
    "        for i in range(ub-1):\n",
    "            if lst[i] >lst[i+1]:\n",
    "                lst[i], lst[i+1] = lst[i+1], lst[i]\n",
    "                swap = True\n",
    "        print(lst)\n",
    "        ub -=1"
   ]
  },
  {
   "cell_type": "markdown",
   "metadata": {},
   "source": [
    "### Stacks"
   ]
  },
  {
   "cell_type": "code",
   "execution_count": 115,
   "metadata": {},
   "outputs": [],
   "source": [
    "# Using lists: push, pop, print\n",
    "lst = [-1,-1,-1,-1,-1]\n",
    "full = len(lst)\n",
    "top = -1\n",
    "def print_stack():\n",
    "    print(lst[:top+1])\n",
    "    \n",
    "def push(item):\n",
    "    global top\n",
    "    if top < full-1:\n",
    "        top+=1\n",
    "        lst[top] = item\n",
    "    else:\n",
    "        print('stack full')\n",
    "        \n",
    "def pop():\n",
    "    global top\n",
    "    if top == -1:\n",
    "        print('stack full')\n",
    "    else:\n",
    "        item = lst[top]\n",
    "        top -=1\n",
    "        return item\n",
    "    \n",
    "# Using clases: push, pop, print\n",
    "\n",
    "\n",
    "    "
   ]
  },
  {
   "cell_type": "markdown",
   "metadata": {},
   "source": [
    "### Queues"
   ]
  },
  {
   "cell_type": "code",
   "execution_count": 142,
   "metadata": {},
   "outputs": [],
   "source": [
    "# Using lists: enqueue, dequeue, print\n",
    "lst = [None] * 5\n",
    "rear = -1\n",
    "front = 0\n",
    "qFull = len(lst)\n",
    "qLen = 0\n",
    "\n",
    "def print_queue():\n",
    "    queue = []    \n",
    "            \n",
    "def enqueue(item):\n",
    "    global front, rear, qLen\n",
    "    if qLen < qFull:\n",
    "        if rear < len(lst)-1:\n",
    "            rear += 1\n",
    "        else:\n",
    "            rear = 0\n",
    "        qLen +=1\n",
    "        lst[rear] = item\n",
    "    else:\n",
    "        print('Queue full')\n",
    "\n",
    "def dequeue():\n",
    "    global front, qLen\n",
    "    if qLen == 0:\n",
    "        print('Queue empty')\n",
    "    else:\n",
    "        item = lst[front]\n",
    "        qLen -=1\n",
    "        if front == len(lst)-1:\n",
    "            front = 0\n",
    "        else:\n",
    "            front += 1\n",
    "            \n",
    "# Using classes: enqueue, dequeue, print"
   ]
  },
  {
   "cell_type": "markdown",
   "metadata": {},
   "source": [
    "### Binary Tree"
   ]
  },
  {
   "cell_type": "code",
   "execution_count": null,
   "metadata": {},
   "outputs": [],
   "source": [
    "# binary tree using using classes\n",
    "class node:\n",
    "    def __init__(self, item):\n",
    "        self.item = item\n",
    "        self.left = None\n",
    "        self.right = None\n",
    "        \n",
    "    def insert(self, item):\n",
    "        if self.item:\n",
    "            if item < self.item:\n",
    "                if self.left is None:\n",
    "                    self.left = node(item)\n",
    "                else:\n",
    "                    self.left.insert(item)\n",
    "            elif item > self.item:\n",
    "                if self.right is None:\n",
    "                    self.right = node(item)\n",
    "                else:\n",
    "                     self.right.insert(item)\n",
    "        else:\n",
    "            self.item = item\n",
    "                \n",
    "    def search(self, item):\n",
    "        while self.item != item:\n",
    "            if item < self.item:\n",
    "                self.item = self.left\n",
    "            else:\n",
    "                self.item = self.right\n",
    "            if self.item is None:\n",
    "                return None\n",
    "        return self.item\n",
    "    \n",
    "t = node(8)  \n",
    "\n",
    "t.insert(4)\n",
    "t.insert(12)\n",
    "t.insert(2)\n",
    "t.insert(6)\n",
    "t.insert(10)\n",
    "t.insert(14)\n"
   ]
  },
  {
   "cell_type": "markdown",
   "metadata": {},
   "source": [
    "### Dictionary"
   ]
  },
  {
   "cell_type": "code",
   "execution_count": null,
   "metadata": {},
   "outputs": [],
   "source": [
    "ODD = {1: 'one', 3: 'three', 5: 'five', \n",
    "       7: 'seven', 9: 'nine'}\n",
    "print(f'keys: {ODD.keys()}')\n",
    "print(f'values: {ODD.values()}')\n",
    "print(f'items: {ODD.items()}')\n",
    "print(f'length: {len(ODD)}')\n",
    "print(7 in ODD)\n",
    "print(2 in ODD)"
   ]
  }
 ],
 "metadata": {
  "interpreter": {
   "hash": "22359592c8c1bb041912e4406a91317188d3b0410f2d021be5f0c0012c4bef02"
  },
  "kernelspec": {
   "display_name": "Python 3.9.7 ('base')",
   "language": "python",
   "name": "python3"
  },
  "language_info": {
   "codemirror_mode": {
    "name": "ipython",
    "version": 3
   },
   "file_extension": ".py",
   "mimetype": "text/x-python",
   "name": "python",
   "nbconvert_exporter": "python",
   "pygments_lexer": "ipython3",
   "version": "3.9.7"
  },
  "orig_nbformat": 4
 },
 "nbformat": 4,
 "nbformat_minor": 2
}
